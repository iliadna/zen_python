{
 "cells": [
  {
   "cell_type": "code",
   "execution_count": 2,
   "metadata": {},
   "outputs": [
    {
     "name": "stdout",
     "output_type": "stream",
     "text": [
      "6\n",
      "0\n",
      "8\n"
     ]
    }
   ],
   "source": [
    "def awesome_funct(numbers):\n",
    "    result = sum(int(n) for n in str(numbers))\n",
    "    if result < 10:\n",
    "        print(result)\n",
    "    else:\n",
    "        return awesome_funct(result)\n",
    "\n",
    "\n",
    "awesome_funct(1423)\n",
    "awesome_funct(0)\n",
    "awesome_funct(894654198456416)"
   ]
  },
  {
   "cell_type": "code",
   "execution_count": null,
   "metadata": {},
   "outputs": [],
   "source": []
  }
 ],
 "metadata": {
  "kernelspec": {
   "display_name": "Python 3",
   "language": "python",
   "name": "python3"
  },
  "language_info": {
   "codemirror_mode": {
    "name": "ipython",
    "version": 3
   },
   "file_extension": ".py",
   "mimetype": "text/x-python",
   "name": "python",
   "nbconvert_exporter": "python",
   "pygments_lexer": "ipython3",
   "version": "3.6.6"
  }
 },
 "nbformat": 4,
 "nbformat_minor": 2
}
